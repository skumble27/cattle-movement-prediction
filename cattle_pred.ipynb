{
 "cells": [
  {
   "cell_type": "code",
   "execution_count": 13,
   "source": [
    "# Importing the dependencies\r\n",
    "from splinter import Browser\r\n",
    "from bs4 import BeautifulSoup\r\n",
    "import time"
   ],
   "outputs": [],
   "metadata": {}
  },
  {
   "cell_type": "code",
   "execution_count": 14,
   "source": [
    "# Opening the Browser to commence scraping\r\n",
    "executable_path = {'executable_path': 'E:\\My Documents\\Employment\\Innova Sierra\\GitHubRepositoryInnovaSierra\\chromedriver.exe'}\r\n",
    "browser = Browser('chrome',**executable_path, headless=False)"
   ],
   "outputs": [],
   "metadata": {}
  },
  {
   "cell_type": "code",
   "execution_count": 15,
   "source": [
    "# Visiting the url\r\n",
    "url = 'https://cattle-movement-simulation.herokuapp.com/dataGeneration.html'\r\n",
    "browser.visit(url)"
   ],
   "outputs": [],
   "metadata": {}
  },
  {
   "cell_type": "code",
   "execution_count": 19,
   "source": [
    "# We need to download the data 500 times on the assumption that we have 500 cattle\r\n",
    "for i in range(500):\r\n",
    "    browser.click_link_by_id('downloadtocsv')\r\n",
    "    time.sleep(5)\r\n",
    "    browser.reload()\r\n",
    "    \r\n",
    "    \r\n",
    "\r\n",
    "    "
   ],
   "outputs": [],
   "metadata": {}
  },
  {
   "cell_type": "code",
   "execution_count": null,
   "source": [],
   "outputs": [],
   "metadata": {}
  }
 ],
 "metadata": {
  "orig_nbformat": 4,
  "language_info": {
   "name": "python",
   "version": "3.6.12",
   "mimetype": "text/x-python",
   "codemirror_mode": {
    "name": "ipython",
    "version": 3
   },
   "pygments_lexer": "ipython3",
   "nbconvert_exporter": "python",
   "file_extension": ".py"
  },
  "kernelspec": {
   "name": "python3",
   "display_name": "Python 3.6.12 64-bit ('webscraping': conda)"
  },
  "interpreter": {
   "hash": "99ac344b60b01084b60ef0f0e2721011ff3370d26e90f1fc976ab13af437858a"
  }
 },
 "nbformat": 4,
 "nbformat_minor": 2
}